{
 "cells": [
  {
   "cell_type": "code",
   "execution_count": 15,
   "metadata": {},
   "outputs": [
    {
     "name": "stdout",
     "output_type": "stream",
     "text": [
      "1973.8226851840004\n"
     ]
    }
   ],
   "source": [
    "ana = 1000 # parayi yatırdığımız ilk gün (pazartesi)\n",
    "ana = ana*12/100+ana # ikinci gün (salı)\n",
    "ana = ana*12/100+ana # üçüncü gün (çarşamba)\n",
    "ana = ana*12/100+ana # dördüncü gün (perşembe)\n",
    "ana = ana*12/100+ana # beşinci gün (cuma)\n",
    "ana = ana*12/100+ana # altıncı gün (cumartesi)\n",
    "ana = ana*12/100+ana # yedinci gün (pazar)\n",
    "print (ana)"
   ]
  },
  {
   "cell_type": "code",
   "execution_count": null,
   "metadata": {},
   "outputs": [],
   "source": []
  }
 ],
 "metadata": {
  "kernelspec": {
   "display_name": "Python 3",
   "language": "python",
   "name": "python3"
  },
  "language_info": {
   "codemirror_mode": {
    "name": "ipython",
    "version": 3
   },
   "file_extension": ".py",
   "mimetype": "text/x-python",
   "name": "python",
   "nbconvert_exporter": "python",
   "pygments_lexer": "ipython3",
   "version": "3.7.3"
  }
 },
 "nbformat": 4,
 "nbformat_minor": 2
}
