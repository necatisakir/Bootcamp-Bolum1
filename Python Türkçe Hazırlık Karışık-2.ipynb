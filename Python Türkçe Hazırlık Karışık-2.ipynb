{
 "nbformat": 4,
 "nbformat_minor": 2,
 "metadata": {
  "language_info": {
   "name": "python",
   "codemirror_mode": {
    "name": "ipython",
    "version": 3
   },
   "version": "3.7.3-final"
  },
  "orig_nbformat": 2,
  "file_extension": ".py",
  "mimetype": "text/x-python",
  "name": "python",
  "npconvert_exporter": "python",
  "pygments_lexer": "ipython3",
  "version": 3,
  "kernelspec": {
   "name": "python3",
   "display_name": "Python 3"
  }
 },
 "cells": [
  {
   "cell_type": "code",
   "execution_count": 1,
   "metadata": {},
   "outputs": [
    {
     "output_type": "stream",
     "name": "stdout",
     "text": "[0, 1, 4, 9, 16]\n"
    }
   ],
   "source": [
    "n = int(input(\"... : \"))\n",
    "if 1 <= n <= 20 :\n",
    "    print([i**2 for i in range(n)], sep=\"\\n\")"
   ]
  },
  {
   "cell_type": "code",
   "execution_count": 11,
   "metadata": {},
   "outputs": [
    {
     "output_type": "stream",
     "name": "stdout",
     "text": "[3, 6, 9, 12, 15]\n"
    }
   ],
   "source": [
    "n1 = 3\n",
    "n2 = 5\n",
    "\n",
    "numbers = []\n",
    "num = 0\n",
    "for i in range(n2) :\n",
    "    num = num + n1\n",
    "    numbers.append(num)\n",
    "print(numbers)"
   ]
  },
  {
   "cell_type": "markdown",
   "metadata": {},
   "source": [
    ">## int olarak girilecek bir sayıyı liste içerisinde string değerler olarak tersten olacak şekilde yazdıralım"
   ]
  },
  {
   "cell_type": "code",
   "execution_count": 26,
   "metadata": {},
   "outputs": [
    {
     "output_type": "stream",
     "name": "stdout",
     "text": "['3', '3', '4', '5', '5', '7', '9', '0', '5', '6', '7', '8']\n"
    }
   ],
   "source": [
    "n = 876509755433\n",
    "new = list(str(n))[::-1]\n",
    "print(new)"
   ]
  },
  {
   "cell_type": "markdown",
   "metadata": {},
   "source": [
    "## bir listede bulunan sayısal elemanlardan en çok tekrar eden elemanı ve kaç kere tekrar ettiğini bulalım\n",
    "> ### `list.count()`\n",
    "> ### `max()`\n",
    "### https://docs.python.org/3/tutorial/datastructures.html?highlight=list%20count"
   ]
  },
  {
   "cell_type": "code",
   "execution_count": 36,
   "metadata": {},
   "outputs": [
    {
     "output_type": "stream",
     "name": "stdout",
     "text": "the most frequent number is 3 and it was 4 times repeated\n"
    }
   ],
   "source": [
    "numbers = [1, 3, 7, 4, 3, 0, 3, 6, 3]\n",
    "item = max(numbers, key = numbers.count)\n",
    "repetition = numbers.count(item)\n",
    "print(\"the most frequent number is {} and it was {} times repeated\".format(item, repetition))"
   ]
  },
  {
   "cell_type": "markdown",
   "metadata": {},
   "source": [
    ">## `set`ler ile çalışma yapma kapsamında `.update` metodunun detaylarını görelim"
   ]
  },
  {
   "cell_type": "code",
   "execution_count": 28,
   "metadata": {},
   "outputs": [
    {
     "output_type": "stream",
     "name": "stdout",
     "text": "{1, 2, 3}\n{1, 2, 3, 4, 6}\n{1, 2, 3, 4, 5, 6, 8, 9, 13}\n{1, 2, 3, 4, 5, 6, 8, 9, 10, 13, 20, 30}\n"
    }
   ],
   "source": [
    "a_set = {1, 2, 3}\n",
    "print(a_set)\n",
    "\n",
    "a_set.update({2, 4, 6})                       \n",
    "print(a_set)\n",
    "\n",
    "a_set.update({3, 6, 9}, {1, 2, 3, 5, 8, 13})\n",
    "print(a_set)\n",
    "\n",
    "a_set.update([10, 20, 30])\n",
    "print(a_set)"
   ]
  },
  {
   "cell_type": "markdown",
   "metadata": {},
   "source": [
    "## tarih formatını değiştirme"
   ]
  },
  {
   "cell_type": "code",
   "execution_count": 32,
   "metadata": {},
   "outputs": [
    {
     "output_type": "execute_result",
     "data": {
      "text/plain": "'20202211'"
     },
     "metadata": {},
     "execution_count": 32
    }
   ],
   "source": [
    "date = \"11/22/2020\"\n",
    "date = date.split(\"/\")\n",
    "new_date = date[2] + date[1] + date[0]\n",
    "new_date"
   ]
  },
  {
   "cell_type": "markdown",
   "metadata": {},
   "source": [
    "## tuple içindeki listenin değiştirilmesi ve iki listenin toplamı"
   ]
  },
  {
   "cell_type": "code",
   "execution_count": 40,
   "metadata": {},
   "outputs": [
    {
     "output_type": "stream",
     "name": "stdout",
     "text": "[1, 2, 3, 4, '11', '122', 33]\n"
    }
   ],
   "source": [
    "print([1,2,3,4] + [\"11\",\"122\",33])"
   ]
  },
  {
   "cell_type": "code",
   "execution_count": 41,
   "metadata": {},
   "outputs": [
    {
     "output_type": "execute_result",
     "data": {
      "text/plain": "(1, 2, [1, 3, 5, '1'])"
     },
     "metadata": {},
     "execution_count": 41
    }
   ],
   "source": [
    "tt = (1, 2, [1, 3, 5])\n",
    "\n",
    "tt[2].append(\"1\")\n",
    "tt"
   ]
  },
  {
   "cell_type": "markdown",
   "metadata": {},
   "source": [
    "## `copy()` method"
   ]
  },
  {
   "cell_type": "code",
   "execution_count": 46,
   "metadata": {},
   "outputs": [
    {
     "output_type": "stream",
     "name": "stdout",
     "text": "New List: [1, 2, 3, 'a']\nOld List: [1, 2, 3, 'a']\n"
    }
   ],
   "source": [
    "old_list = [1, 2, 3]\n",
    "new_list = old_list\n",
    "\n",
    "# add element to list\n",
    "new_list.append('a')\n",
    "\n",
    "print('New List:', new_list )\n",
    "print('Old List:', old_list )"
   ]
  },
  {
   "cell_type": "code",
   "execution_count": 47,
   "metadata": {},
   "outputs": [
    {
     "output_type": "stream",
     "name": "stdout",
     "text": "Old List:  ['cat', 0, 6.7]\nNew List:  ['cat', 0, 6.7, 'dog']\n"
    }
   ],
   "source": [
    "# mixed list\n",
    "list = ['cat', 0, 6.7]\n",
    "\n",
    "# copying a list\n",
    "new_list = list.copy()\n",
    "\n",
    "# Adding element to the new list\n",
    "new_list.append('dog')\n",
    "\n",
    "# Printing new and old list\n",
    "print('Old List: ', list)\n",
    "print('New List: ', new_list)"
   ]
  },
  {
   "cell_type": "code",
   "execution_count": 48,
   "metadata": {},
   "outputs": [
    {
     "output_type": "stream",
     "name": "stdout",
     "text": "Old List:  ['cat', 0, 6.7]\nNew List:  ['cat', 0, 6.7, 'dog']\n"
    }
   ],
   "source": [
    "# mixed list\n",
    "list = ['cat', 0, 6.7]\n",
    "\n",
    "# copying a list using slicing\n",
    "new_list = list[:]\n",
    "\n",
    "# Adding element to the new list\n",
    "new_list.append('dog')\n",
    "\n",
    "# Printing new and old list\n",
    "print('Old List: ', list)\n",
    "print('New List: ', new_list)"
   ]
  },
  {
   "cell_type": "markdown",
   "metadata": {},
   "source": [
    "## `extend()` method"
   ]
  },
  {
   "cell_type": "code",
   "execution_count": 96,
   "metadata": {},
   "outputs": [
    {
     "output_type": "stream",
     "name": "stdout",
     "text": "Language List:  ['French', 'English', 'German', 'Spanish', 'Portuguese']\n"
    }
   ],
   "source": [
    "# language list\n",
    "language = ['French', 'English', 'German']\n",
    "\n",
    "# another list of language\n",
    "language1 = ['Spanish', 'Portuguese']\n",
    "\n",
    "language.extend(language1)\n",
    "\n",
    "# Extended List\n",
    "print('Language List: ', language)"
   ]
  },
  {
   "cell_type": "markdown",
   "metadata": {},
   "source": [
    "## tüm collection tipleri bu yöntemle listeye eklenebilir"
   ]
  },
  {
   "cell_type": "code",
   "execution_count": 50,
   "metadata": {},
   "outputs": [
    {
     "output_type": "stream",
     "name": "stdout",
     "text": "New Language List:  ['French', 'English', 'German', 'Spanish', 'Portuguese']\nNewest Language List:  ['French', 'English', 'German', 'Spanish', 'Portuguese', 'Japanese', 'Chinese']\n"
    }
   ],
   "source": [
    "# language list\n",
    "language = ['French', 'English', 'German']\n",
    "\n",
    "# language tuple\n",
    "language_tuple = ('Spanish', 'Portuguese')\n",
    "\n",
    "# language set\n",
    "language_set = {'Chinese', 'Japanese'}\n",
    "\n",
    "# appending element of language tuple\n",
    "language.extend(language_tuple)\n",
    "\n",
    "print('New Language List: ', language)\n",
    "\n",
    "# appending element of language set\n",
    "language.extend(language_set)\n",
    "\n",
    "print('Newest Language List: ', language)"
   ]
  },
  {
   "cell_type": "markdown",
   "metadata": {},
   "source": [
    "## `count()` method"
   ]
  },
  {
   "cell_type": "code",
   "execution_count": 51,
   "metadata": {},
   "outputs": [
    {
     "output_type": "stream",
     "name": "stdout",
     "text": "The count of ('a', 'b') is: 2\nThe count of [3, 4] is: 1\n"
    }
   ],
   "source": [
    "# random list\n",
    "random = ['a', ('a', 'b'), ('a', 'b'), [3, 4]]\n",
    "\n",
    "# count element ('a', 'b')\n",
    "count = random.count(('a', 'b'))\n",
    "\n",
    "# print count\n",
    "print(\"The count of ('a', 'b') is:\", count)\n",
    "\n",
    "# count element [3, 4]\n",
    "count = random.count([3, 4])\n",
    "\n",
    "# print count\n",
    "print(\"The count of [3, 4] is:\", count)"
   ]
  },
  {
   "cell_type": "markdown",
   "metadata": {},
   "source": [
    "## `pop()` method"
   ]
  },
  {
   "cell_type": "code",
   "execution_count": 52,
   "metadata": {},
   "outputs": [
    {
     "output_type": "stream",
     "name": "stdout",
     "text": "Return Value: French\nUpdated List: ['Python', 'Java', 'C++', 'C']\n"
    }
   ],
   "source": [
    "# programming languages list\n",
    "languages = ['Python', 'Java', 'C++', 'French', 'C']\n",
    "\n",
    "# remove and return the 4th item\n",
    "return_value = languages.pop(3)\n",
    "print('Return Value:', return_value)\n",
    "\n",
    "# Updated List\n",
    "print('Updated List:', languages)"
   ]
  },
  {
   "cell_type": "code",
   "execution_count": 53,
   "metadata": {},
   "outputs": [
    {
     "output_type": "stream",
     "name": "stdout",
     "text": "When index is not passed:\nReturn Value: C\nUpdated List: ['Python', 'Java', 'C++', 'Ruby']\n\nWhen -1 is passed:\nReturn Value: Ruby\nUpdated List: ['Python', 'Java', 'C++']\n\nWhen -3 is passed:\nReturn Value: Python\nUpdated List: ['Java', 'C++']\n"
    }
   ],
   "source": [
    "# programming languages list\n",
    "languages = ['Python', 'Java', 'C++', 'Ruby', 'C']\n",
    "\n",
    "# remove and return the last item\n",
    "print('When index is not passed:') \n",
    "print('Return Value:', languages.pop())\n",
    "print('Updated List:', languages)\n",
    "\n",
    "# remove and return the last item\n",
    "print('\\nWhen -1 is passed:') \n",
    "print('Return Value:', languages.pop(-1))\n",
    "print('Updated List:', languages)\n",
    "\n",
    "# remove and return the third last item\n",
    "print('\\nWhen -3 is passed:') \n",
    "print('Return Value:', languages.pop(-3))\n",
    "print('Updated List:', languages)"
   ]
  },
  {
   "cell_type": "markdown",
   "metadata": {},
   "source": [
    "## find the year if it is a leap year\n",
    "\n",
    "In the Gregorian calendar, three criteria must be taken into account to identify leap years:\n",
    "\n",
    "The year must be evenly divisible by 4;\n",
    " - If the year can also be evenly divided by 100, it is not a leap year;\n",
    "unless...\n",
    " - The year is also evenly divisible by 400. Then it is a leap year.\n",
    " - According to these rules, the years 2000 and 2400 are leap years,\n",
    "while 1800, 1900, 2100, 2200, 2300, and 2500 are not leap years."
   ]
  },
  {
   "cell_type": "code",
   "execution_count": 97,
   "metadata": {},
   "outputs": [
    {
     "output_type": "stream",
     "name": "stdout",
     "text": "True\n"
    }
   ],
   "source": [
    "year = int(input(\"dört rakamlı bir yıl giriniz : \"))\n",
    "leap = (year % 4 == 0) and ((year % 400 == 0) or (year % 100 != 0))\n",
    "print(leap)"
   ]
  },
  {
   "cell_type": "markdown",
   "metadata": {},
   "source": [
    "## if statement kullanarak leap year hesaplamak"
   ]
  },
  {
   "cell_type": "code",
   "execution_count": 99,
   "metadata": {},
   "outputs": [
    {
     "output_type": "stream",
     "name": "stdout",
     "text": "2019 is not a leap year\n"
    }
   ],
   "source": [
    "# Python program to check if year is a leap year or not\n",
    "\n",
    "year = int(input(\"dört rakamlı bir yıl giriniz : \"))\n",
    "\n",
    "# To get year (integer input) from the user\n",
    "# year = int(input(\"Enter a year: \"))\n",
    "\n",
    "if (year % 4) == 0:\n",
    "   if (year % 100) == 0:\n",
    "       if (year % 400) == 0:\n",
    "           print(\"{0} is a leap year\".format(year))\n",
    "       else:\n",
    "           print(\"{0} is not a leap year\".format(year))\n",
    "   else:\n",
    "       print(\"{0} is a leap year\".format(year))\n",
    "else:\n",
    "   print(\"{0} is not a leap year\".format(year))"
   ]
  },
  {
   "cell_type": "markdown",
   "metadata": {},
   "source": [
    "## faktoriyel hesaplama\n",
    "\n",
    ">Note: To test the program for a different number, change the value of num.\n",
    "\n",
    "Here, the number whose factorial is to be found is stored in num, and we check if the number is negative, zero or positive using if...elif...else statement. If the number is positive, we use for loop and range() function to calculate the factorial."
   ]
  },
  {
   "cell_type": "code",
   "execution_count": 71,
   "metadata": {},
   "outputs": [
    {
     "output_type": "stream",
     "name": "stdout",
     "text": "The factorial of 7 is 5040\n"
    }
   ],
   "source": [
    "# Python program to find the factorial of a number provided by the user.\n",
    "\n",
    "# change the value for a different result\n",
    "num = 7\n",
    "\n",
    "# To take input from the user\n",
    "#num = int(input(\"Enter a number: \"))\n",
    "\n",
    "factorial = 1\n",
    "\n",
    "# check if the number is negative, positive or zero\n",
    "if num < 0:\n",
    "   print(\"Sorry, factorial does not exist for negative numbers\")\n",
    "elif num == 0:\n",
    "   print(\"The factorial of 0 is 1\")\n",
    "else:\n",
    "   for i in range(1,num + 1):\n",
    "       factorial = factorial*i\n",
    "   print(\"The factorial of\",num,\"is\",factorial)"
   ]
  },
  {
   "cell_type": "markdown",
   "metadata": {},
   "source": [
    "A positive integer is called an Armstrong number of order n if\n",
    "\n",
    "`abcd... = an + bn + cn + dn + ...`\n",
    "In case of an Armstrong number of 3 digits, the sum of cubes of each digit is equal to the number itself. For example:\n",
    "\n",
    "`153 = 1*1*1 + 5*5*5 + 3*3*3  // 153 is an Armstrong number.`"
   ]
  },
  {
   "cell_type": "code",
   "execution_count": null,
   "metadata": {},
   "outputs": [],
   "source": [
    "# Python program to check if the number is an Armstrong number or not\n",
    "\n",
    "# take input from the user\n",
    "num = int(input(\"Enter a number: \"))\n",
    "\n",
    "# initialize sum\n",
    "sum = 0\n",
    "\n",
    "# find the sum of the cube of each digit\n",
    "temp = num\n",
    "while temp > 0:\n",
    "   digit = temp % 10\n",
    "   sum += digit ** 3\n",
    "   temp //= 10\n",
    "\n",
    "# display the result\n",
    "if num == sum:\n",
    "   print(num,\"is an Armstrong number\")\n",
    "else:\n",
    "   print(num,\"is not an Armstrong number\")"
   ]
  },
  {
   "cell_type": "code",
   "execution_count": 93,
   "metadata": {},
   "outputs": [
    {
     "output_type": "stream",
     "name": "stdout",
     "text": "407 is an armstrong number\n"
    }
   ],
   "source": [
    "anum = int(input(\"enter 3 digit int number to check if it is an armstrong number:\"))\n",
    "\n",
    "is_arm = anum == ((anum//100)**3)+(((anum//10)%10)**3)+((anum%10)**3)\n",
    "\n",
    "if is_arm:\n",
    "    print(anum, \"is an armstrong number\")\n",
    "else:\n",
    "    print(anum, \"is not an armstrong number\")\n",
    "#407 and 153 are the armstrong numbers"
   ]
  },
  {
   "cell_type": "code",
   "execution_count": 6,
   "metadata": {},
   "outputs": [
    {
     "output_type": "stream",
     "name": "stdout",
     "text": "407 is an armstrong number\n"
    }
   ],
   "source": [
    "armnum = input(\"enter 3 digit int number to check if it is an armstrong number:\")\n",
    "\n",
    "is_armnum = int(armnum) == (int(armnum[0])**3) + (int(armnum[1])**3) + (int(armnum[2])**3)\n",
    "\n",
    "if is_armnum:\n",
    "    print(armnum, \"is an armstrong number\")\n",
    "else:\n",
    "    print(armnum, \"is not an armstrong number\")"
   ]
  },
  {
   "cell_type": "markdown",
   "metadata": {},
   "source": []
  }
 ]
}